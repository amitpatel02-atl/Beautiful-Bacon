{
 "cells": [
  {
   "cell_type": "code",
   "execution_count": 1,
   "metadata": {},
   "outputs": [
    {
     "data": {
      "text/plain": [
       "''"
      ]
     },
     "execution_count": 1,
     "metadata": {},
     "output_type": "execute_result"
    }
   ],
   "source": [
    "'''\n",
    "Requirements:\n",
    "US Bureau of Labor Statistic API Key in config.py\n",
    "\n",
    "Sample Code Source:\n",
    "https://www.bls.gov/developers/api_python.htm#python2\n",
    "\n",
    "Data website:\n",
    "https://data.bls.gov/timeseries/APU0000704111\n",
    "'''\n",
    ";"
   ]
  },
  {
   "cell_type": "code",
   "execution_count": 7,
   "metadata": {},
   "outputs": [],
   "source": [
    "import requests\n",
    "import json\n",
    "import pandas as pd\n",
    "import datetime as dt\n",
    "from config import bls_api_key, username, passphrase\n",
    "from sqlalchemy import create_engine\n",
    "\n",
    "now_year = dt.date.today().year\n",
    "\n",
    "def bacon_cpi_api(startyear =  now_year - 5, endyear = now_year):\n",
    "    \n",
    "    '''Default to last 5 years'''\n",
    "\n",
    "    # Define variables\n",
    "    series_id = 'APU0000704111'\n",
    "    \n",
    "    # Convert years to string\n",
    "    startyear = str(startyear)\n",
    "    endyear   = str(endyear)\n",
    "\n",
    "    # Pulling API Data from US Bureau of Labor Statistics\n",
    "    headers = {'Content-type': 'application/json'}\n",
    "    data    = json.dumps({\"seriesid\": [series_id], \"startyear\"  : startyear, \"endyear\" : endyear, \"registrationkey\": bls_api_key})\n",
    "    p       = requests.post('https://api.bls.gov/publicAPI/v2/timeseries/data/', data = data, headers = headers)\n",
    "    json_data = json.loads(p.text)\n",
    "    \n",
    "    # Print Status\n",
    "    print(json_data[\"status\"])\n",
    "    \n",
    "    # Print API return message if it's not empty\n",
    "    if json_data['message']:\n",
    "        print(json_data['message'])\n",
    "\n",
    "    # Create a pandas DataFrame\n",
    "    data_dict = {\n",
    "        'year'  : [],\n",
    "        'month' : [],\n",
    "        'value' : [],\n",
    "    }\n",
    "\n",
    "    for item in json_data['Results']['series'][0]['data']:\n",
    "\n",
    "        year_  = int(item['year'])\n",
    "        month_ = int(item['period'].replace('M', '')) \n",
    "        value  = float(item['value'])\n",
    "        \n",
    "        data_dict['year'].append(year_)\n",
    "        data_dict['month'].append(month_)\n",
    "        data_dict['value'].append(value)\n",
    "\n",
    "    data_pd = pd.DataFrame(data_dict)\n",
    "\n",
    "    return data_pd\n"
   ]
  },
  {
   "cell_type": "code",
   "execution_count": 3,
   "metadata": {},
   "outputs": [
    {
     "name": "stdout",
     "output_type": "stream",
     "text": [
      "REQUEST_SUCCEEDED\n"
     ]
    }
   ],
   "source": [
    "data_pd = bacon_cpi_api()\n",
    "data_pd.to_csv('bacon_bls_data.csv', index = False)"
   ]
  },
  {
   "cell_type": "code",
   "execution_count": 5,
   "metadata": {},
   "outputs": [
    {
     "data": {
      "text/html": [
       "<div>\n",
       "<style scoped>\n",
       "    .dataframe tbody tr th:only-of-type {\n",
       "        vertical-align: middle;\n",
       "    }\n",
       "\n",
       "    .dataframe tbody tr th {\n",
       "        vertical-align: top;\n",
       "    }\n",
       "\n",
       "    .dataframe thead th {\n",
       "        text-align: right;\n",
       "    }\n",
       "</style>\n",
       "<table border=\"1\" class=\"dataframe\">\n",
       "  <thead>\n",
       "    <tr style=\"text-align: right;\">\n",
       "      <th></th>\n",
       "      <th>year</th>\n",
       "      <th>month</th>\n",
       "      <th>value</th>\n",
       "    </tr>\n",
       "  </thead>\n",
       "  <tbody>\n",
       "    <tr>\n",
       "      <th>0</th>\n",
       "      <td>2020</td>\n",
       "      <td>4</td>\n",
       "      <td>5.346</td>\n",
       "    </tr>\n",
       "    <tr>\n",
       "      <th>1</th>\n",
       "      <td>2020</td>\n",
       "      <td>3</td>\n",
       "      <td>5.257</td>\n",
       "    </tr>\n",
       "    <tr>\n",
       "      <th>2</th>\n",
       "      <td>2020</td>\n",
       "      <td>2</td>\n",
       "      <td>5.497</td>\n",
       "    </tr>\n",
       "    <tr>\n",
       "      <th>3</th>\n",
       "      <td>2020</td>\n",
       "      <td>1</td>\n",
       "      <td>5.505</td>\n",
       "    </tr>\n",
       "    <tr>\n",
       "      <th>4</th>\n",
       "      <td>2019</td>\n",
       "      <td>12</td>\n",
       "      <td>5.474</td>\n",
       "    </tr>\n",
       "  </tbody>\n",
       "</table>\n",
       "</div>"
      ],
      "text/plain": [
       "   year  month  value\n",
       "0  2020      4  5.346\n",
       "1  2020      3  5.257\n",
       "2  2020      2  5.497\n",
       "3  2020      1  5.505\n",
       "4  2019     12  5.474"
      ]
     },
     "execution_count": 5,
     "metadata": {},
     "output_type": "execute_result"
    }
   ],
   "source": [
    "data_pd.head()"
   ]
  },
  {
   "cell_type": "code",
   "execution_count": 9,
   "metadata": {},
   "outputs": [],
   "source": [
    "# Connect to Postgres\n",
    "rds_connection_string = f\"{username}:{passphrase}@localhost:5432/bacon_db\"\n",
    "engine = create_engine(f'postgresql://{rds_connection_string}')"
   ]
  },
  {
   "cell_type": "code",
   "execution_count": 10,
   "metadata": {},
   "outputs": [],
   "source": [
    "# Load Bacon CPI Data to Postgres\n",
    "data_pd.to_sql(name='bacon_cpi', con = engine, if_exists='append', index = False)"
   ]
  },
  {
   "cell_type": "code",
   "execution_count": null,
   "metadata": {},
   "outputs": [],
   "source": []
  }
 ],
 "metadata": {
  "kernelspec": {
   "display_name": "via2",
   "language": "python",
   "name": "via2"
  },
  "language_info": {
   "codemirror_mode": {
    "name": "ipython",
    "version": 3
   },
   "file_extension": ".py",
   "mimetype": "text/x-python",
   "name": "python",
   "nbconvert_exporter": "python",
   "pygments_lexer": "ipython3",
   "version": "3.7.3"
  }
 },
 "nbformat": 4,
 "nbformat_minor": 2
}
