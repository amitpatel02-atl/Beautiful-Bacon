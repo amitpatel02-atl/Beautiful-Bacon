{
 "cells": [
  {
   "cell_type": "code",
   "execution_count": 1,
   "metadata": {},
   "outputs": [
    {
     "data": {
      "text/plain": [
       "''"
      ]
     },
     "execution_count": 1,
     "metadata": {},
     "output_type": "execute_result"
    }
   ],
   "source": [
    "'''\n",
    "Requirements:\n",
    "US Bureau of Labor Statistic API Key in config.py\n",
    "Postgres credential in \n",
    "\n",
    "Sample Code Source:\n",
    "https://www.bls.gov/developers/api_python.htm#python2\n",
    "\n",
    "Data website:\n",
    "https://data.bls.gov/timeseries/APU0000704111\n",
    "'''\n",
    ";"
   ]
  },
  {
   "cell_type": "code",
   "execution_count": 1,
   "metadata": {},
   "outputs": [],
   "source": [
    "import requests\n",
    "import json\n",
    "import pandas as pd\n",
    "import datetime as dt\n",
    "from config import bls_api_key, username, passphrase\n",
    "from sqlalchemy import create_engine\n",
    "\n",
    "now_year = dt.date.today().year\n",
    "\n",
    "def bacon_cpi_api(startyear =  now_year - 1, endyear = now_year):\n",
    "    \n",
    "    '''Default to since last year'''\n",
    "\n",
    "    # Define variables\n",
    "    series_id = 'APU0000704111'\n",
    "    \n",
    "    # Convert years to string\n",
    "    startyear = str(startyear)\n",
    "    endyear   = str(endyear)\n",
    "\n",
    "    # Pulling API Data from US Bureau of Labor Statistics\n",
    "    headers = {'Content-type': 'application/json'}\n",
    "    data    = json.dumps({\"seriesid\": [series_id], \"startyear\"  : startyear, \"endyear\" : endyear, \"registrationkey\": bls_api_key})\n",
    "    p       = requests.post('https://api.bls.gov/publicAPI/v2/timeseries/data/', data = data, headers = headers)\n",
    "    json_data = json.loads(p.text)\n",
    "    \n",
    "    # Print Status\n",
    "    print(json_data[\"status\"])\n",
    "    \n",
    "    # Print API return message if it's not empty\n",
    "    if json_data['message']:\n",
    "        print(json_data['message'])\n",
    "\n",
    "    # Create a pandas DataFrame\n",
    "    data_dict = {\n",
    "        'year_month'  : [],\n",
    "        'value' : [],\n",
    "    }\n",
    "\n",
    "    for item in json_data['Results']['series'][0]['data']:\n",
    "\n",
    "        year_month  = item['year'] + item['period'].replace('M', '')\n",
    "        value  = float(item['value'])\n",
    "        \n",
    "        data_dict['year_month'].append(year_month)\n",
    "        data_dict['value'].append(value)\n",
    "\n",
    "    data_pd = pd.DataFrame(data_dict)\n",
    "\n",
    "    return data_pd\n",
    "\n",
    "def store_cpi_data_to_db(data_pd):\n",
    "\n",
    "    # Connect to Postgres\n",
    "    rds_connection_string = f\"{username}:{passphrase}@localhost:5432/bacon_db\"\n",
    "    engine = create_engine(f'postgresql://{rds_connection_string}')\n",
    "\n",
    "    # Pull the last 24 data points from the database\n",
    "    try:\n",
    "        last_24m = pd.read_sql_query('SELECT * FROM bacon_cpi LIMIT 24', con=engine)\n",
    "    except:\n",
    "        # If the table bacon_cpi doesn't exsit in the database. Create one.\n",
    "        data_pd.to_sql(name='bacon_cpi', con = engine, if_exists='append', index = False)\n",
    "        \n",
    "        print('A new table bacon_cpi has been created in the database bacon_db.')\n",
    "        return\n",
    "    \n",
    "    # Store only the new data to the database\n",
    "    for year_month in data_pd.year_month:\n",
    "        if year_month not in last_24m.year_month.values:\n",
    "        \n",
    "            new_data = data_pd.loc[data_pd.year_month == year_month].copy()\n",
    "        \n",
    "            # Load Bacon CPI Data to Postgres\n",
    "            new_data.to_sql(name='bacon_cpi', con = engine, if_exists='append', index = False)\n",
    "        \n",
    "            print(year_month, 'cpi data has been loaded to the database bacon_db.')\n",
    "            \n",
    "    return "
   ]
  },
  {
   "cell_type": "code",
   "execution_count": 19,
   "metadata": {},
   "outputs": [],
   "source": [
    "# Download and Transform Data\n",
    "data_pd = bacon_cpi_api()\n",
    "\n",
    "# Load and store data\n",
    "store_cpi_data_to_db(data_pd)"
   ]
  }
 ],
 "metadata": {
  "kernelspec": {
   "display_name": "via2",
   "language": "python",
   "name": "via2"
  },
  "language_info": {
   "codemirror_mode": {
    "name": "ipython",
    "version": 3
   },
   "file_extension": ".py",
   "mimetype": "text/x-python",
   "name": "python",
   "nbconvert_exporter": "python",
   "pygments_lexer": "ipython3",
   "version": "3.7.3"
  }
 },
 "nbformat": 4,
 "nbformat_minor": 4
}
